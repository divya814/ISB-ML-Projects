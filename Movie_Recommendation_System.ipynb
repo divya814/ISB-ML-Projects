{
  "nbformat": 4,
  "nbformat_minor": 0,
  "metadata": {
    "colab": {
      "name": "Movie Recommendation System",
      "provenance": [],
      "collapsed_sections": []
    },
    "kernelspec": {
      "name": "python3",
      "display_name": "Python 3"
    }
  },
  "cells": [
    {
      "cell_type": "code",
      "metadata": {
        "id": "rioJes1pcKMZ",
        "colab_type": "code",
        "colab": {}
      },
      "source": [
        "text=[\"Lodon Paris London\",\"Paris Paris London\"]\n"
      ],
      "execution_count": null,
      "outputs": []
    },
    {
      "cell_type": "code",
      "metadata": {
        "id": "GaQ0ZdLHdM3k",
        "colab_type": "code",
        "colab": {
          "base_uri": "https://localhost:8080/",
          "height": 87
        },
        "outputId": "29f54d40-fd74-4060-e53d-b5074caae2fc"
      },
      "source": [
        "from sklearn.feature_extraction.text import CountVectorizer\n",
        "text=[\"London Paris London\",\"Paris Paris London\"]\n",
        "cv=CountVectorizer()\n",
        "count_matrix=cv.fit_transform(text)\n",
        "print(count_matrix)"
      ],
      "execution_count": null,
      "outputs": [
        {
          "output_type": "stream",
          "text": [
            "  (0, 0)\t2\n",
            "  (0, 1)\t1\n",
            "  (1, 0)\t1\n",
            "  (1, 1)\t2\n"
          ],
          "name": "stdout"
        }
      ]
    },
    {
      "cell_type": "code",
      "metadata": {
        "id": "bOsR4zZ9dylm",
        "colab_type": "code",
        "colab": {
          "base_uri": "https://localhost:8080/",
          "height": 52
        },
        "outputId": "e601a6c0-305f-493a-8231-89de6a4d81f1"
      },
      "source": [
        "print(count_matrix.toarray())"
      ],
      "execution_count": null,
      "outputs": [
        {
          "output_type": "stream",
          "text": [
            "[[2 1]\n",
            " [1 2]]\n"
          ],
          "name": "stdout"
        }
      ]
    },
    {
      "cell_type": "code",
      "metadata": {
        "id": "5oCJGx8pd8-x",
        "colab_type": "code",
        "colab": {}
      },
      "source": [
        "from sklearn.feature_extraction.text import CountVectorizer\n",
        "from sklearn.metrics.pairwise import cosine_similarity"
      ],
      "execution_count": null,
      "outputs": []
    },
    {
      "cell_type": "code",
      "metadata": {
        "id": "XpReTyz8eSz0",
        "colab_type": "code",
        "colab": {
          "base_uri": "https://localhost:8080/",
          "height": 52
        },
        "outputId": "917bf33e-1915-463f-9973-9b58d78c2c01"
      },
      "source": [
        "text=[\"London Paris London\",\"Paris Paris London\"]\n",
        "cv=CountVectorizer()\n",
        "count_matrix=cv.fit_transform(text)\n",
        "similarity_score=cosine_similarity(count_matrix)\n",
        "print(similarity_score)"
      ],
      "execution_count": null,
      "outputs": [
        {
          "output_type": "stream",
          "text": [
            "[[1.  0.8]\n",
            " [0.8 1. ]]\n"
          ],
          "name": "stdout"
        }
      ]
    },
    {
      "cell_type": "code",
      "metadata": {
        "id": "wgWovSvhe_yM",
        "colab_type": "code",
        "colab": {}
      },
      "source": [
        "import pandas as pd\n"
      ],
      "execution_count": null,
      "outputs": []
    },
    {
      "cell_type": "code",
      "metadata": {
        "id": "nhYYni7ijF-J",
        "colab_type": "code",
        "colab": {
          "base_uri": "https://localhost:8080/",
          "height": 759
        },
        "outputId": "dd74c752-a93a-480c-807b-2eabea6b11b1"
      },
      "source": [
        "d= pd.read_csv(\"movie_dataset.csv\")\n",
        "d.head()"
      ],
      "execution_count": null,
      "outputs": [
        {
          "output_type": "execute_result",
          "data": {
            "text/html": [
              "<div>\n",
              "<style scoped>\n",
              "    .dataframe tbody tr th:only-of-type {\n",
              "        vertical-align: middle;\n",
              "    }\n",
              "\n",
              "    .dataframe tbody tr th {\n",
              "        vertical-align: top;\n",
              "    }\n",
              "\n",
              "    .dataframe thead th {\n",
              "        text-align: right;\n",
              "    }\n",
              "</style>\n",
              "<table border=\"1\" class=\"dataframe\">\n",
              "  <thead>\n",
              "    <tr style=\"text-align: right;\">\n",
              "      <th></th>\n",
              "      <th>index</th>\n",
              "      <th>budget</th>\n",
              "      <th>genres</th>\n",
              "      <th>homepage</th>\n",
              "      <th>id</th>\n",
              "      <th>keywords</th>\n",
              "      <th>original_language</th>\n",
              "      <th>original_title</th>\n",
              "      <th>overview</th>\n",
              "      <th>popularity</th>\n",
              "      <th>production_companies</th>\n",
              "      <th>production_countries</th>\n",
              "      <th>release_date</th>\n",
              "      <th>revenue</th>\n",
              "      <th>runtime</th>\n",
              "      <th>spoken_languages</th>\n",
              "      <th>status</th>\n",
              "      <th>tagline</th>\n",
              "      <th>title</th>\n",
              "      <th>vote_average</th>\n",
              "      <th>vote_count</th>\n",
              "      <th>cast</th>\n",
              "      <th>crew</th>\n",
              "      <th>director</th>\n",
              "    </tr>\n",
              "  </thead>\n",
              "  <tbody>\n",
              "    <tr>\n",
              "      <th>0</th>\n",
              "      <td>0</td>\n",
              "      <td>237000000</td>\n",
              "      <td>Action Adventure Fantasy Science Fiction</td>\n",
              "      <td>http://www.avatarmovie.com/</td>\n",
              "      <td>19995</td>\n",
              "      <td>culture clash future space war space colony so...</td>\n",
              "      <td>en</td>\n",
              "      <td>Avatar</td>\n",
              "      <td>In the 22nd century, a paraplegic Marine is di...</td>\n",
              "      <td>150.437577</td>\n",
              "      <td>[{\"name\": \"Ingenious Film Partners\", \"id\": 289...</td>\n",
              "      <td>[{\"iso_3166_1\": \"US\", \"name\": \"United States o...</td>\n",
              "      <td>2009-12-10</td>\n",
              "      <td>2787965087</td>\n",
              "      <td>162.0</td>\n",
              "      <td>[{\"iso_639_1\": \"en\", \"name\": \"English\"}, {\"iso...</td>\n",
              "      <td>Released</td>\n",
              "      <td>Enter the World of Pandora.</td>\n",
              "      <td>Avatar</td>\n",
              "      <td>7.2</td>\n",
              "      <td>11800</td>\n",
              "      <td>Sam Worthington Zoe Saldana Sigourney Weaver S...</td>\n",
              "      <td>[{'name': 'Stephen E. Rivkin', 'gender': 0, 'd...</td>\n",
              "      <td>James Cameron</td>\n",
              "    </tr>\n",
              "    <tr>\n",
              "      <th>1</th>\n",
              "      <td>1</td>\n",
              "      <td>300000000</td>\n",
              "      <td>Adventure Fantasy Action</td>\n",
              "      <td>http://disney.go.com/disneypictures/pirates/</td>\n",
              "      <td>285</td>\n",
              "      <td>ocean drug abuse exotic island east india trad...</td>\n",
              "      <td>en</td>\n",
              "      <td>Pirates of the Caribbean: At World's End</td>\n",
              "      <td>Captain Barbossa, long believed to be dead, ha...</td>\n",
              "      <td>139.082615</td>\n",
              "      <td>[{\"name\": \"Walt Disney Pictures\", \"id\": 2}, {\"...</td>\n",
              "      <td>[{\"iso_3166_1\": \"US\", \"name\": \"United States o...</td>\n",
              "      <td>2007-05-19</td>\n",
              "      <td>961000000</td>\n",
              "      <td>169.0</td>\n",
              "      <td>[{\"iso_639_1\": \"en\", \"name\": \"English\"}]</td>\n",
              "      <td>Released</td>\n",
              "      <td>At the end of the world, the adventure begins.</td>\n",
              "      <td>Pirates of the Caribbean: At World's End</td>\n",
              "      <td>6.9</td>\n",
              "      <td>4500</td>\n",
              "      <td>Johnny Depp Orlando Bloom Keira Knightley Stel...</td>\n",
              "      <td>[{'name': 'Dariusz Wolski', 'gender': 2, 'depa...</td>\n",
              "      <td>Gore Verbinski</td>\n",
              "    </tr>\n",
              "    <tr>\n",
              "      <th>2</th>\n",
              "      <td>2</td>\n",
              "      <td>245000000</td>\n",
              "      <td>Action Adventure Crime</td>\n",
              "      <td>http://www.sonypictures.com/movies/spectre/</td>\n",
              "      <td>206647</td>\n",
              "      <td>spy based on novel secret agent sequel mi6</td>\n",
              "      <td>en</td>\n",
              "      <td>Spectre</td>\n",
              "      <td>A cryptic message from Bond’s past sends him o...</td>\n",
              "      <td>107.376788</td>\n",
              "      <td>[{\"name\": \"Columbia Pictures\", \"id\": 5}, {\"nam...</td>\n",
              "      <td>[{\"iso_3166_1\": \"GB\", \"name\": \"United Kingdom\"...</td>\n",
              "      <td>2015-10-26</td>\n",
              "      <td>880674609</td>\n",
              "      <td>148.0</td>\n",
              "      <td>[{\"iso_639_1\": \"fr\", \"name\": \"Fran\\u00e7ais\"},...</td>\n",
              "      <td>Released</td>\n",
              "      <td>A Plan No One Escapes</td>\n",
              "      <td>Spectre</td>\n",
              "      <td>6.3</td>\n",
              "      <td>4466</td>\n",
              "      <td>Daniel Craig Christoph Waltz L\\u00e9a Seydoux ...</td>\n",
              "      <td>[{'name': 'Thomas Newman', 'gender': 2, 'depar...</td>\n",
              "      <td>Sam Mendes</td>\n",
              "    </tr>\n",
              "    <tr>\n",
              "      <th>3</th>\n",
              "      <td>3</td>\n",
              "      <td>250000000</td>\n",
              "      <td>Action Crime Drama Thriller</td>\n",
              "      <td>http://www.thedarkknightrises.com/</td>\n",
              "      <td>49026</td>\n",
              "      <td>dc comics crime fighter terrorist secret ident...</td>\n",
              "      <td>en</td>\n",
              "      <td>The Dark Knight Rises</td>\n",
              "      <td>Following the death of District Attorney Harve...</td>\n",
              "      <td>112.312950</td>\n",
              "      <td>[{\"name\": \"Legendary Pictures\", \"id\": 923}, {\"...</td>\n",
              "      <td>[{\"iso_3166_1\": \"US\", \"name\": \"United States o...</td>\n",
              "      <td>2012-07-16</td>\n",
              "      <td>1084939099</td>\n",
              "      <td>165.0</td>\n",
              "      <td>[{\"iso_639_1\": \"en\", \"name\": \"English\"}]</td>\n",
              "      <td>Released</td>\n",
              "      <td>The Legend Ends</td>\n",
              "      <td>The Dark Knight Rises</td>\n",
              "      <td>7.6</td>\n",
              "      <td>9106</td>\n",
              "      <td>Christian Bale Michael Caine Gary Oldman Anne ...</td>\n",
              "      <td>[{'name': 'Hans Zimmer', 'gender': 2, 'departm...</td>\n",
              "      <td>Christopher Nolan</td>\n",
              "    </tr>\n",
              "    <tr>\n",
              "      <th>4</th>\n",
              "      <td>4</td>\n",
              "      <td>260000000</td>\n",
              "      <td>Action Adventure Science Fiction</td>\n",
              "      <td>http://movies.disney.com/john-carter</td>\n",
              "      <td>49529</td>\n",
              "      <td>based on novel mars medallion space travel pri...</td>\n",
              "      <td>en</td>\n",
              "      <td>John Carter</td>\n",
              "      <td>John Carter is a war-weary, former military ca...</td>\n",
              "      <td>43.926995</td>\n",
              "      <td>[{\"name\": \"Walt Disney Pictures\", \"id\": 2}]</td>\n",
              "      <td>[{\"iso_3166_1\": \"US\", \"name\": \"United States o...</td>\n",
              "      <td>2012-03-07</td>\n",
              "      <td>284139100</td>\n",
              "      <td>132.0</td>\n",
              "      <td>[{\"iso_639_1\": \"en\", \"name\": \"English\"}]</td>\n",
              "      <td>Released</td>\n",
              "      <td>Lost in our world, found in another.</td>\n",
              "      <td>John Carter</td>\n",
              "      <td>6.1</td>\n",
              "      <td>2124</td>\n",
              "      <td>Taylor Kitsch Lynn Collins Samantha Morton Wil...</td>\n",
              "      <td>[{'name': 'Andrew Stanton', 'gender': 2, 'depa...</td>\n",
              "      <td>Andrew Stanton</td>\n",
              "    </tr>\n",
              "  </tbody>\n",
              "</table>\n",
              "</div>"
            ],
            "text/plain": [
              "   index  ...           director\n",
              "0      0  ...      James Cameron\n",
              "1      1  ...     Gore Verbinski\n",
              "2      2  ...         Sam Mendes\n",
              "3      3  ...  Christopher Nolan\n",
              "4      4  ...     Andrew Stanton\n",
              "\n",
              "[5 rows x 24 columns]"
            ]
          },
          "metadata": {
            "tags": []
          },
          "execution_count": 17
        }
      ]
    },
    {
      "cell_type": "code",
      "metadata": {
        "id": "oCJFejHHirQP",
        "colab_type": "code",
        "colab": {}
      },
      "source": [
        "import pandas as pd\n",
        "import numpy as np\n",
        "from sklearn.feature_extraction.text import CountVectorizer\n",
        "from sklearn.metrics.pairwise import cosine_similarity"
      ],
      "execution_count": null,
      "outputs": []
    },
    {
      "cell_type": "code",
      "metadata": {
        "id": "vB-Rmbaej8g1",
        "colab_type": "code",
        "colab": {}
      },
      "source": [
        "def get_title_from_index(index):\n",
        "  return df[df.index==index]['title'].values[0]\n",
        "def get_index_from_title(title):\n",
        "  return df[df.title==title]['index'].values[0]\n",
        "  "
      ],
      "execution_count": null,
      "outputs": []
    },
    {
      "cell_type": "code",
      "metadata": {
        "id": "18idEG0Vkpup",
        "colab_type": "code",
        "colab": {}
      },
      "source": [
        "df=pd.read_csv(\"movie_dataset.csv\")"
      ],
      "execution_count": null,
      "outputs": []
    },
    {
      "cell_type": "code",
      "metadata": {
        "id": "kOKnZk3Qk-M9",
        "colab_type": "code",
        "colab": {
          "base_uri": "https://localhost:8080/",
          "height": 156
        },
        "outputId": "add82168-5e25-47bb-c106-1efb8788e266"
      },
      "source": [
        "print(df.head())"
      ],
      "execution_count": null,
      "outputs": [
        {
          "output_type": "stream",
          "text": [
            "   index  ...           director\n",
            "0      0  ...      James Cameron\n",
            "1      1  ...     Gore Verbinski\n",
            "2      2  ...         Sam Mendes\n",
            "3      3  ...  Christopher Nolan\n",
            "4      4  ...     Andrew Stanton\n",
            "\n",
            "[5 rows x 24 columns]\n"
          ],
          "name": "stdout"
        }
      ]
    },
    {
      "cell_type": "code",
      "metadata": {
        "id": "a8WceSe0lC99",
        "colab_type": "code",
        "colab": {
          "base_uri": "https://localhost:8080/",
          "height": 121
        },
        "outputId": "8a7dc10d-3fde-4a37-e6df-59a65ccb254f"
      },
      "source": [
        "print(df.columns)"
      ],
      "execution_count": null,
      "outputs": [
        {
          "output_type": "stream",
          "text": [
            "Index(['index', 'budget', 'genres', 'homepage', 'id', 'keywords',\n",
            "       'original_language', 'original_title', 'overview', 'popularity',\n",
            "       'production_companies', 'production_countries', 'release_date',\n",
            "       'revenue', 'runtime', 'spoken_languages', 'status', 'tagline', 'title',\n",
            "       'vote_average', 'vote_count', 'cast', 'crew', 'director'],\n",
            "      dtype='object')\n"
          ],
          "name": "stdout"
        }
      ]
    },
    {
      "cell_type": "code",
      "metadata": {
        "id": "5xnzjuB2lHnx",
        "colab_type": "code",
        "colab": {}
      },
      "source": [
        "features=['keywords','cast','genres','director']"
      ],
      "execution_count": null,
      "outputs": []
    },
    {
      "cell_type": "code",
      "metadata": {
        "id": "ZV5-5iDzlS7e",
        "colab_type": "code",
        "colab": {}
      },
      "source": [
        "for feature in features:\n",
        "  df[feature]=df[feature].fillna('')"
      ],
      "execution_count": null,
      "outputs": []
    },
    {
      "cell_type": "code",
      "metadata": {
        "id": "X9r3vJ4Mlcqv",
        "colab_type": "code",
        "colab": {}
      },
      "source": [
        "def combine_features(row):\n",
        "  return row['keywords'] +\"\"+row['cast']+row['genres']+row['director']"
      ],
      "execution_count": null,
      "outputs": []
    },
    {
      "cell_type": "code",
      "metadata": {
        "id": "7Hh-8cVClvzy",
        "colab_type": "code",
        "colab": {}
      },
      "source": [
        "df[\"combined_features\"]=df.apply(combine_features,axis=1)"
      ],
      "execution_count": null,
      "outputs": []
    },
    {
      "cell_type": "code",
      "metadata": {
        "id": "bTv-RHvhl8Nw",
        "colab_type": "code",
        "colab": {
          "base_uri": "https://localhost:8080/",
          "height": 139
        },
        "outputId": "6b282969-7406-4d2c-9a52-ffa78e93ac56"
      },
      "source": [
        "print(\"Combine Features:\\n\",df['combined_features'].head())"
      ],
      "execution_count": null,
      "outputs": [
        {
          "output_type": "stream",
          "text": [
            "Combine Features:\n",
            " 0    culture clash future space war space colony so...\n",
            "1    ocean drug abuse exotic island east india trad...\n",
            "2    spy based on novel secret agent sequel mi6Dani...\n",
            "3    dc comics crime fighter terrorist secret ident...\n",
            "4    based on novel mars medallion space travel pri...\n",
            "Name: combined_features, dtype: object\n"
          ],
          "name": "stdout"
        }
      ]
    },
    {
      "cell_type": "code",
      "metadata": {
        "id": "798QQW6kmhrR",
        "colab_type": "code",
        "colab": {}
      },
      "source": [
        "#step4\n",
        "cv=CountVectorizer()"
      ],
      "execution_count": null,
      "outputs": []
    },
    {
      "cell_type": "code",
      "metadata": {
        "id": "I1rzWxhqmmXu",
        "colab_type": "code",
        "colab": {}
      },
      "source": [
        "count_matrix=cv.fit_transform(df['combined_features'])"
      ],
      "execution_count": null,
      "outputs": []
    },
    {
      "cell_type": "code",
      "metadata": {
        "id": "qP3mFP6om4KF",
        "colab_type": "code",
        "colab": {}
      },
      "source": [
        "#step5\n",
        "cosine_sim=cosine_similarity(count_matrix)"
      ],
      "execution_count": null,
      "outputs": []
    },
    {
      "cell_type": "code",
      "metadata": {
        "id": "P4XdU5P1nDVA",
        "colab_type": "code",
        "colab": {}
      },
      "source": [
        "movie_user_like=\"Avatar\"\n"
      ],
      "execution_count": null,
      "outputs": []
    },
    {
      "cell_type": "code",
      "metadata": {
        "id": "5fwsWcNjnQir",
        "colab_type": "code",
        "colab": {}
      },
      "source": [
        "movie_index=get_index_from_title(movie_user_like)"
      ],
      "execution_count": null,
      "outputs": []
    },
    {
      "cell_type": "code",
      "metadata": {
        "id": "ukXhTD-4niKl",
        "colab_type": "code",
        "colab": {}
      },
      "source": [
        "similar_movies = list(enumerate(cosine_sim[movie_index]))"
      ],
      "execution_count": null,
      "outputs": []
    },
    {
      "cell_type": "code",
      "metadata": {
        "id": "Oc3MLTLbn1H1",
        "colab_type": "code",
        "colab": {}
      },
      "source": [
        "sorted_similar_movies = sorted(similar_movies, key= lambda x:x[1],reverse=True)"
      ],
      "execution_count": null,
      "outputs": []
    },
    {
      "cell_type": "code",
      "metadata": {
        "id": "Q0v7FRswoG0-",
        "colab_type": "code",
        "colab": {
          "base_uri": "https://localhost:8080/",
          "height": 901
        },
        "outputId": "c423f421-d671-4a5e-c315-ec06eaf61d27"
      },
      "source": [
        "i=0\n",
        "for movie in sorted_similar_movies:\n",
        "  print(get_title_from_index(movie[0]))\n",
        "  i=i+1\n",
        "  if i>50:\n",
        "    break"
      ],
      "execution_count": null,
      "outputs": [
        {
          "output_type": "stream",
          "text": [
            "Avatar\n",
            "Guardians of the Galaxy\n",
            "Alien\n",
            "Aliens\n",
            "Star Wars: Clone Wars: Volume 1\n",
            "Space Dogs\n",
            "Cargo\n",
            "Star Trek Beyond\n",
            "Moonraker\n",
            "Jason X\n",
            "Galaxy Quest\n",
            "Trekkies\n",
            "Silent Running\n",
            "The Astronaut's Wife\n",
            "Planet of the Apes\n",
            "Wing Commander\n",
            "Star Trek Into Darkness\n",
            "Babylon A.D.\n",
            "Space Chimps\n",
            "Galaxina\n",
            "Oblivion\n",
            "The Ice Pirates\n",
            "John Carter\n",
            "Soldier\n",
            "Damnation Alley\n",
            "Gravity\n",
            "Men in Black\n",
            "Sheena\n",
            "Men in Black II\n",
            "Memoirs of an Invisible Man\n",
            "Treasure Planet\n",
            "The Iron Giant\n",
            "Shrek Forever After\n",
            "Source Code\n",
            "Captain America: The Winter Soldier\n",
            "Lost in Space\n",
            "Event Horizon\n",
            "The Right Stuff\n",
            "Crossroads\n",
            "Stargate: The Ark of Truth\n",
            "Saving Private Ryan\n",
            "Terminator 2: Judgment Day\n",
            "Titan A.E.\n",
            "Sunshine\n",
            "The Thing\n",
            "Spaceballs\n",
            "Jupiter Ascending\n",
            "Mad Max: Fury Road\n",
            "Red Planet\n",
            "AVP: Alien vs. Predator\n",
            "Zathura: A Space Adventure\n"
          ],
          "name": "stdout"
        }
      ]
    }
  ]
}